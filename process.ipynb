{
 "cells": [
  {
   "cell_type": "code",
   "execution_count": 4,
   "metadata": {},
   "outputs": [],
   "source": [
    "import pandas as pd\n",
    "from sklearn.model_selection import train_test_split\n",
    "from sklearn.preprocessing import StandardScaler, OneHotEncoder\n",
    "from sklearn.compose import ColumnTransformer\n",
    "from sklearn.pipeline import Pipeline\n",
    "\n",
    "data = pd.read_csv('data.csv')"
   ]
  },
  {
   "cell_type": "markdown",
   "metadata": {},
   "source": [
    "把多于1个的空格都转为单个空格"
   ]
  },
  {
   "cell_type": "code",
   "execution_count": 2,
   "metadata": {},
   "outputs": [],
   "source": [
    "import pandas as pd\n",
    "\n",
    "# 读取CSV文件\n",
    "data = pd.read_csv('data.csv')\n",
    "\n",
    "# 获取所有字符串列的列名\n",
    "string_columns = data.select_dtypes(include=['object']).columns\n",
    "\n",
    "# 将所有字符串列中的多个连续空格转为一个空格\n",
    "data[string_columns] = data[string_columns].apply(lambda x: x.str.replace(r'\\s+', ' ', regex=True))\n",
    "\n",
    "# 将处理后的数据保存回CSV文件\n",
    "data.to_csv('processed_data.csv', index=False)"
   ]
  },
  {
   "cell_type": "code",
   "execution_count": null,
   "metadata": {},
   "outputs": [],
   "source": [
    "import pandas as pd\n",
    "from sklearn.model_selection import train_test_split\n",
    "from sklearn.preprocessing import StandardScaler, OneHotEncoder\n",
    "from sklearn.compose import ColumnTransformer\n",
    "from sklearn.pipeline import Pipeline\n",
    "\n",
    "# 假设数据存储在名为 'data.csv' 的CSV文件中，读取数据\n",
    "data = pd.read_csv('data.csv')\n",
    "\n",
    "# 复制多个工作经历对应的行\n",
    "expanded_data = pd.DataFrame(data['工作经历数量'].apply(lambda x: [x]).tolist(), \n",
    "                              columns=[f'工作经历数量_{i+1}' for i in range(data['工作经历数量'].max())])\n",
    "\n",
    "for col in ['工作职位', '公司名称']:\n",
    "    expanded_data = pd.concat([expanded_data, data[col].apply(lambda x: x.split(' ')).apply(pd.Series)], axis=1)\n",
    "\n",
    "expanded_data['岗位ID'] = data['岗位ID']\n",
    "\n",
    "# 划分数据集为训练集和测试集\n",
    "X = expanded_data.drop(columns=['岗位ID'])  # 特征矩阵\n",
    "y = expanded_data['岗位ID']  # 目标（岗位ID）\n",
    "X_train, X_val, y_train, y_val = train_test_split(X, y, test_size=0.15, random_state=42)\n",
    "\n",
    "# 特征处理和预处理的代码，与之前相似，这里省略\n",
    "# ...\n",
    "\n",
    "# 在训练集上拟合预处理管道\n",
    "X_train_preprocessed = preprocessor.fit_transform(X_train)\n",
    "\n",
    "# 在验证集上应用预处理管道\n",
    "X_val_preprocessed = preprocessor.transform(X_val)\n",
    "\n",
    "# 输出预处理后的特征矩阵和目标\n",
    "print(\"预处理后的特征矩阵：\")\n",
    "print(X_train_preprocessed)\n",
    "print(\"训练集目标：\")\n",
    "print(y_train)"
   ]
  }
 ],
 "metadata": {
  "kernelspec": {
   "display_name": "Python 3",
   "language": "python",
   "name": "python3"
  },
  "language_info": {
   "codemirror_mode": {
    "name": "ipython",
    "version": 3
   },
   "file_extension": ".py",
   "mimetype": "text/x-python",
   "name": "python",
   "nbconvert_exporter": "python",
   "pygments_lexer": "ipython3",
   "version": "3.8.0"
  },
  "orig_nbformat": 4
 },
 "nbformat": 4,
 "nbformat_minor": 2
}
