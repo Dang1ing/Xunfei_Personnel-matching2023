{
 "cells": [
  {
   "cell_type": "code",
   "execution_count": 67,
   "metadata": {},
   "outputs": [],
   "source": [
    "import pandas as pd\n",
    "import sys\n",
    "import json\n",
    "from sklearn.preprocessing import  MultiLabelBinarizer\n",
    "\n",
    "\n"
   ]
  },
  {
   "cell_type": "code",
   "execution_count": 130,
   "metadata": {},
   "outputs": [],
   "source": [
    "filename = './raw.csv'\n",
    "CSVreader = pd.read_csv(filename)\n",
    "JobTitle = CSVreader['工作职位']\n",
    "\n",
    "JobList = []\n",
    "Job = []\n",
    "JobEncoder = []\n",
    "for item in JobTitle:\n",
    "    item = item.replace(\"'\",'').replace(\"[\",'').replace(\"]\",'').split(',')\n",
    "    for lt in item:\n",
    "        JobList.append(lt)\n",
    "    Job.append(set(item))\n",
    "\n",
    "joblist = []\n",
    "joblist.append(JobList)\n",
    "encoder = MultiLabelBinarizer()\n",
    "encoder.fit(joblist)\n",
    "\n",
    "\n",
    "for item in Job:\n",
    "    tmp = []\n",
    "    tmp.append(item)\n",
    "    JobEncoder.append(encoder.transform(tmp).tolist()[0])\n",
    "\n",
    "\n",
    "pd.DataFrame({\n",
    "    'LabelEncoder':JobEncoder\n",
    "}).to_csv('./JobEncoder.csv')"
   ]
  }
 ],
 "metadata": {
  "kernelspec": {
   "display_name": "learn_env",
   "language": "python",
   "name": "python3"
  },
  "language_info": {
   "codemirror_mode": {
    "name": "ipython",
    "version": 3
   },
   "file_extension": ".py",
   "mimetype": "text/x-python",
   "name": "python",
   "nbconvert_exporter": "python",
   "pygments_lexer": "ipython3",
   "version": "3.8.13"
  },
  "orig_nbformat": 4
 },
 "nbformat": 4,
 "nbformat_minor": 2
}
