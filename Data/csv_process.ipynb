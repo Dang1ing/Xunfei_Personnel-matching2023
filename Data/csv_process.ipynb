{
 "cells": [
  {
   "cell_type": "code",
   "execution_count": 1,
   "metadata": {},
   "outputs": [],
   "source": [
    "from sklearn.preprocessing import  MultiLabelBinarizer,LabelBinarizer\n",
    "import pandas as pd\n",
    "import sys\n",
    "\n",
    "filename = './raw.csv'\n",
    "output_filename = './DataEncoder.csv'\n",
    "CSVreader = pd.read_csv(filename)\n",
    "\n",
    "Encoder_result = {}"
   ]
  },
  {
   "cell_type": "code",
   "execution_count": 2,
   "metadata": {},
   "outputs": [],
   "source": [
    "# LabelEncoder编码\n",
    "field1_list = {'岗位ID','工作经历数量','社会经历数量','项目数量','技能数量','荣誉数量'}\n",
    "\n",
    "for field in field1_list:\n",
    "    data = CSVreader[field].to_list()\n",
    "    encoder = LabelBinarizer()\n",
    "    Encoder_result[field] = encoder.fit_transform(data).tolist()"
   ]
  },
  {
   "cell_type": "code",
   "execution_count": 3,
   "metadata": {},
   "outputs": [],
   "source": [
    "# MulitHot编码\n",
    "field2_list = set(CSVreader.columns.to_list()) - field1_list\n",
    "\n",
    "for field in field2_list:\n",
    "    data = CSVreader[field]\n",
    "    label_record = []\n",
    "    for item in data:\n",
    "        item = item.replace(\"'\",'').replace(\"[\",'').replace(\"]\",'').split(',')\n",
    "        label_record.append(item)\n",
    "\n",
    "    encoder = MultiLabelBinarizer()\n",
    "    Encoder_result[field] = encoder.fit_transform(label_record).tolist()"
   ]
  },
  {
   "cell_type": "code",
   "execution_count": 4,
   "metadata": {},
   "outputs": [],
   "source": [
    "# 转换为dataframe格式并输出到CSV文件\n",
    "df = pd.DataFrame(Encoder_result)\n",
    "# df.to_csv(output_filename) # 太大了"
   ]
  },
  {
   "cell_type": "code",
   "execution_count": 9,
   "metadata": {},
   "outputs": [
    {
     "name": "stdout",
     "output_type": "stream",
     "text": [
      "<class 'int'>\n"
     ]
    }
   ],
   "source": [
    "print(type(df['专业'][0][0]))"
   ]
  },
  {
   "cell_type": "code",
   "execution_count": 130,
   "metadata": {},
   "outputs": [],
   "source": [
    "# multihot测试\n",
    "\n",
    "JobTitle = CSVreader['工作职位']\n",
    "\n",
    "JobList = []\n",
    "Job = []\n",
    "JobEncoder = []\n",
    "for item in JobTitle:\n",
    "    item = item.replace(\"'\",'').replace(\"[\",'').replace(\"]\",'').split(',')\n",
    "    for lt in item:\n",
    "        JobList.append(lt)\n",
    "    Job.append(set(item))\n",
    "\n",
    "joblist = []\n",
    "joblist.append(JobList)\n",
    "encoder = MultiLabelBinarizer()\n",
    "encoder.fit(joblist)\n",
    "\n",
    "\n",
    "for item in Job:\n",
    "    tmp = []\n",
    "    tmp.append(item)\n",
    "    JobEncoder.append(encoder.transform(tmp).tolist()[0])\n",
    "\n",
    "\n",
    "pd.DataFrame({\n",
    "    'LabelEncoder':JobEncoder\n",
    "}).to_csv('./JobEncoder.csv')"
   ]
  }
 ],
 "metadata": {
  "kernelspec": {
   "display_name": "learn_env",
   "language": "python",
   "name": "python3"
  },
  "language_info": {
   "codemirror_mode": {
    "name": "ipython",
    "version": 3
   },
   "file_extension": ".py",
   "mimetype": "text/x-python",
   "name": "python",
   "nbconvert_exporter": "python",
   "pygments_lexer": "ipython3",
   "version": "3.8.13"
  },
  "orig_nbformat": 4
 },
 "nbformat": 4,
 "nbformat_minor": 2
}
