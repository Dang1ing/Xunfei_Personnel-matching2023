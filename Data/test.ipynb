{
 "cells": [
  {
   "cell_type": "code",
   "execution_count": 2,
   "metadata": {},
   "outputs": [
    {
     "name": "stdout",
     "output_type": "stream",
     "text": [
      "9397\n",
      "   岗位ID                                               解析结果  简历ID\n",
      "0   519  {'profileEduExps': [{'schoolLevel': [], 'schoo...     0\n",
      "1   418  {'profileEduExps': [{'schoolLevel': ['14844587...     1\n",
      "2   516  {'profileEduExps': [{'schoolLevel': ['62 63 50...     2\n"
     ]
    }
   ],
   "source": [
    "import json\n",
    "import pandas as pd\n",
    "\n",
    "data = pd.read_json('./train.json')\n",
    "print(len(data))\n",
    "print(data.head(3))"
   ]
  },
  {
   "cell_type": "code",
   "execution_count": 13,
   "metadata": {},
   "outputs": [],
   "source": [
    "import json\n",
    "import pandas as pd\n",
    "import numpy as np\n",
    "from sklearn.linear_model import LogisticRegression\n",
    "from sklearn.ensemble import RandomForestClassifier\n",
    "from sklearn.model_selection import train_test_split\n",
    "from sklearn.metrics import f1_score\n",
    "\n",
    "data = pd.read_json('./train.json')\n",
    "data['解析结果'] = data['解析结果'].apply(lambda x : json.dumps(x).replace('\"', ' ').replace('\"', ' ').split())\n",
    "\n",
    "train_data, test_data = train_test_split(data, train_size=0.75)\n",
    "\n",
    "joblist = pd.read_json('./job_list.json')\n",
    "joblist['解析结果'] = joblist['岗位名称'] + ' ' + joblist['岗位介绍'] + ' ' + joblist['岗位要求']\n",
    "joblist['解析结果'] = joblist['解析结果'].apply(lambda x : x.split())\n",
    "\n"
   ]
  },
  {
   "cell_type": "code",
   "execution_count": 14,
   "metadata": {},
   "outputs": [
    {
     "name": "stdout",
     "output_type": "stream",
     "text": [
      "0.20009075381998143\n"
     ]
    }
   ],
   "source": [
    "train_feat = []\n",
    "for row in train_data.iterrows():\n",
    "    label = row[1]['岗位ID']\n",
    "    query_text= row[1]['解析结果']\n",
    "    feat = [\n",
    "        label,\n",
    "        len(query_text), len(set(query_text)), len(query_text) - len(set(query_text)),\n",
    "    ]\n",
    "    for target_text in joblist['解析结果']:\n",
    "        feat += [\n",
    "            len(set(query_text) & set(target_text)),\n",
    "            len(set(query_text) & set(target_text)) / len(query_text),\n",
    "            len(set(query_text) & set(target_text)) / len(target_text),\n",
    "            \n",
    "            len(set(query_text) & set(target_text)) / len(set(target_text)),\n",
    "            len(set(query_text) & set(target_text)) / len(set(query_text))\n",
    "\n",
    "        ]\n",
    "    train_feat.append(feat)\n",
    "train_feat = np.array(train_feat)\n",
    "m = RandomForestClassifier()\n",
    "m.fit(\n",
    "    train_feat[:, 1:],\n",
    "    train_feat[:, 0],\n",
    ")\n",
    "\n",
    "test_feat = []\n",
    "labels = []\n",
    "for row in test_data.iterrows():\n",
    "    labels.append(row[1]['岗位ID'])\n",
    "    query_text= row[1]['解析结果']\n",
    "    feat = [\n",
    "        len(query_text), len(set(query_text)), len(query_text) - len(set(query_text)),\n",
    "    ]\n",
    "    for target_text in joblist['解析结果']:\n",
    "        feat += [\n",
    "            len(set(query_text) & set(target_text)),\n",
    "            len(set(query_text) & set(target_text)) / len(query_text),\n",
    "            len(set(query_text) & set(target_text)) / len(target_text),\n",
    "            \n",
    "            len(set(query_text) & set(target_text)) / len(set(target_text)),\n",
    "            len(set(query_text) & set(target_text)) / len(set(query_text))\n",
    "\n",
    "        ]\n",
    "    test_feat.append(feat)\n",
    "test_feat = np.array(test_feat)\n",
    "pd.DataFrame({\n",
    "    '简历ID': range(len(test_data)),\n",
    "    '岗位ID': m.predict(test_feat).astype(int)\n",
    "}).to_csv('./result.csv', index=None)\n",
    "\n",
    "pred = m.predict(test_feat).astype(int)\n",
    "F1 = f1_score(labels,pred,average='macro')\n",
    "print(F1)\n",
    "\n",
    "\n"
   ]
  }
 ],
 "metadata": {
  "kernelspec": {
   "display_name": "learn_env",
   "language": "python",
   "name": "python3"
  },
  "language_info": {
   "codemirror_mode": {
    "name": "ipython",
    "version": 3
   },
   "file_extension": ".py",
   "mimetype": "text/x-python",
   "name": "python",
   "nbconvert_exporter": "python",
   "pygments_lexer": "ipython3",
   "version": "3.8.13"
  },
  "orig_nbformat": 4
 },
 "nbformat": 4,
 "nbformat_minor": 2
}
