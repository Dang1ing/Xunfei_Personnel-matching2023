{
 "cells": [
  {
   "cell_type": "code",
   "execution_count": 31,
   "metadata": {},
   "outputs": [],
   "source": [
    "import json\n",
    "import pandas as pd\n",
    "import numpy as np\n",
    "import sys"
   ]
  },
  {
   "cell_type": "code",
   "execution_count": 32,
   "metadata": {},
   "outputs": [],
   "source": [
    "# 数据处理\n",
    "train_data = pd.read_json('./train.json')\n",
    "result = {}"
   ]
  },
  {
   "cell_type": "code",
   "execution_count": 33,
   "metadata": {},
   "outputs": [],
   "source": [
    "for use_data in train_data.iterrows():\n",
    "    use_data = use_data[1]\n",
    "    resume_id = use_data['简历ID']\n",
    "    jod_id = use_data['岗位ID']\n",
    "    use_result = {}\n",
    "    use_result['岗位ID'] = jod_id\n",
    "    \"\"\"处理解析结果\"\"\"\n",
    "    use_data = use_data['解析结果']\n",
    "    \n",
    "    # 工作经历相关属性 profileWorkExps\n",
    "    WorkExp = use_data['profileWorkExps']\n",
    "    use_result['工作经历数量'] = len(WorkExp)\n",
    "    use_result['工作职位'],use_result['公司名称'],use_result['岗位描述'] = [],[],[]\n",
    "    for item in WorkExp:\n",
    "        use_result['工作职位'].append(item['jobTitle'])\n",
    "        use_result['公司名称'].append(item['enterpriseName'])\n",
    "        use_result['岗位描述'].append(item['jobDescr'])\n",
    "    \n",
    "    # 教育背景相关属性 profileEduExps\n",
    "    EduExp = use_data['profileEduExps']\n",
    "    use_result['专业'],use_result['学校'],use_result['学校层次'] = [],[],[]\n",
    "    for item in EduExp:\n",
    "        use_result['专业'].append(item['major'])\n",
    "        use_result['学校'].append(item['school'])\n",
    "        use_result['学校层次'].append(item['schoolLevel'])\n",
    "    \n",
    "    # 社会经历相关属性 profileSocialExps\n",
    "    SocialExp = use_data['profileSocialExps']\n",
    "    use_result['社会经历数量'] = len(SocialExp)\n",
    "    use_result['职位名'],use_result['组织名'],use_result['社会经历岗位描述'] = [],[],[]\n",
    "    for item in SocialExp:\n",
    "        use_result['职位名'].append(item['jobTitle'])\n",
    "        use_result['组织名'].append(item['organization'])\n",
    "        use_result['社会经历岗位描述'].append(item['jobDescr'])\n",
    "    \n",
    "    # 项目经历相关属性 profileProjectExps\n",
    "    ProjectSocialExp = use_data['profileProjectExps']\n",
    "    use_result['项目数量'] = len(ProjectSocialExp)\n",
    "    use_result['项目名称'],use_result['项目描述'] = [],[]\n",
    "    for item in ProjectSocialExp:\n",
    "        use_result['项目名称'].append(item['projectName'])\n",
    "        use_result['项目描述'].append(item['projectDesc'])\n",
    "    \n",
    "    # 技能数量，荣誉数量\n",
    "    Skills, Awards = use_data['profileSkills'], use_data['profileAwards']\n",
    "    use_result['技能数量'] = sum([len(x) for x in Skills.values()])\n",
    "    use_result['荣誉数量'] = sum([len(x) for x in Awards.values()])\n",
    "\n",
    "    # 期望工作,profileDesire\n",
    "    Desire = use_data['profileDesire']\n",
    "    use_result['期望职位'] = Desire['expectFunction']\n",
    "\n",
    "    result[resume_id] = use_result\n",
    "\n",
    "    # for key,value in result[resume_id].items():\n",
    "    #     print(key,value)\n",
    "    # sys.exit()\n"
   ]
  },
  {
   "cell_type": "code",
   "execution_count": 34,
   "metadata": {},
   "outputs": [],
   "source": [
    "# 保存到文件中\n",
    "with open('./data_process.json','w',encoding='utf-8') as fp:\n",
    "    result_json = json.dumps(result,ensure_ascii=False)\n",
    "    fp.write(result_json)"
   ]
  }
 ],
 "metadata": {
  "kernelspec": {
   "display_name": "learn_env",
   "language": "python",
   "name": "python3"
  },
  "language_info": {
   "codemirror_mode": {
    "name": "ipython",
    "version": 3
   },
   "file_extension": ".py",
   "mimetype": "text/x-python",
   "name": "python",
   "nbconvert_exporter": "python",
   "pygments_lexer": "ipython3",
   "version": "3.8.13"
  },
  "orig_nbformat": 4
 },
 "nbformat": 4,
 "nbformat_minor": 2
}
